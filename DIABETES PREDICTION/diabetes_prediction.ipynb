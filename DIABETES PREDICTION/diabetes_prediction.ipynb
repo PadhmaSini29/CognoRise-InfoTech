{
 "cells": [
  {
   "cell_type": "code",
   "execution_count": 12,
   "id": "888ef16e",
   "metadata": {},
   "outputs": [],
   "source": [
    "import pandas as pd\n",
    "from sklearn.model_selection import train_test_split\n",
    "from sklearn.preprocessing import StandardScaler\n",
    "from sklearn.ensemble import RandomForestClassifier\n",
    "from sklearn.neighbors import KNeighborsClassifier\n",
    "from sklearn.ensemble import AdaBoostClassifier\n",
    "from sklearn.linear_model import LogisticRegression\n",
    "from sklearn.tree import DecisionTreeClassifier"
   ]
  },
  {
   "cell_type": "code",
   "execution_count": 13,
   "id": "57a66f9a",
   "metadata": {},
   "outputs": [],
   "source": [
    "# Assuming your dataset is in a CSV file\n",
    "df = pd.read_csv('C:/Users/lgspa/Downloads/ml intern dataset/diabetes_prediction_dataset.csv')"
   ]
  },
  {
   "cell_type": "code",
   "execution_count": 14,
   "id": "2e27b92a",
   "metadata": {},
   "outputs": [],
   "source": [
    "# One-hot encode the 'gender' and 'smoking_history' columns\n",
    "df = pd.get_dummies(df, columns=['gender', 'smoking_history'], drop_first=True)"
   ]
  },
  {
   "cell_type": "code",
   "execution_count": 17,
   "id": "f1a2963e",
   "metadata": {},
   "outputs": [],
   "source": [
    "# Assuming 'diabetes' is your target variable\n",
    "X = df[['gender_Male', 'age', 'hypertension', 'heart_disease', 'smoking_history_former', 'smoking_history_never', 'bmi', 'HbA1c_level', 'blood_glucose_level']]\n",
    "y = df['diabetes']"
   ]
  },
  {
   "cell_type": "code",
   "execution_count": 18,
   "id": "fd0e14b9",
   "metadata": {},
   "outputs": [],
   "source": [
    "# Split the data into training and testing sets\n",
    "X_train, X_test, y_train, y_test = train_test_split(X, y, test_size=0.2, random_state=42)"
   ]
  },
  {
   "cell_type": "code",
   "execution_count": 19,
   "id": "53b67682",
   "metadata": {},
   "outputs": [],
   "source": [
    "# Standardize the features\n",
    "scaler = StandardScaler()\n",
    "X_train_scaled = scaler.fit_transform(X_train)\n",
    "X_test_scaled = scaler.transform(X_test)"
   ]
  },
  {
   "cell_type": "code",
   "execution_count": 20,
   "id": "8d4378f9",
   "metadata": {},
   "outputs": [
    {
     "data": {
      "text/plain": [
       "RandomForestClassifier()"
      ]
     },
     "execution_count": 20,
     "metadata": {},
     "output_type": "execute_result"
    }
   ],
   "source": [
    "# Train the Random Forest Classifier\n",
    "rf_model = RandomForestClassifier()\n",
    "rf_model.fit(X_train_scaled, y_train)"
   ]
  },
  {
   "cell_type": "code",
   "execution_count": 21,
   "id": "07c60c4a",
   "metadata": {},
   "outputs": [
    {
     "data": {
      "text/plain": [
       "KNeighborsClassifier()"
      ]
     },
     "execution_count": 21,
     "metadata": {},
     "output_type": "execute_result"
    }
   ],
   "source": [
    "# Train the K-Nearest Neighbors\n",
    "knn_model = KNeighborsClassifier()\n",
    "knn_model.fit(X_train_scaled, y_train)"
   ]
  },
  {
   "cell_type": "code",
   "execution_count": 22,
   "id": "5cf4d6b6",
   "metadata": {},
   "outputs": [
    {
     "data": {
      "text/plain": [
       "AdaBoostClassifier()"
      ]
     },
     "execution_count": 22,
     "metadata": {},
     "output_type": "execute_result"
    }
   ],
   "source": [
    "# Train the AdaBoost Classifier\n",
    "adaboost_model = AdaBoostClassifier()\n",
    "adaboost_model.fit(X_train_scaled, y_train)"
   ]
  },
  {
   "cell_type": "code",
   "execution_count": 23,
   "id": "8d9e5b14",
   "metadata": {},
   "outputs": [
    {
     "data": {
      "text/plain": [
       "LogisticRegression()"
      ]
     },
     "execution_count": 23,
     "metadata": {},
     "output_type": "execute_result"
    }
   ],
   "source": [
    "# Train the Linear Regression (for binary classification)\n",
    "lr_model = LogisticRegression()\n",
    "lr_model.fit(X_train_scaled, y_train)"
   ]
  },
  {
   "cell_type": "code",
   "execution_count": 24,
   "id": "533258a0",
   "metadata": {},
   "outputs": [
    {
     "data": {
      "text/plain": [
       "DecisionTreeClassifier()"
      ]
     },
     "execution_count": 24,
     "metadata": {},
     "output_type": "execute_result"
    }
   ],
   "source": [
    "# Train the Decision Tree Classifier\n",
    "dt_model = DecisionTreeClassifier()\n",
    "dt_model.fit(X_train_scaled, y_train)"
   ]
  },
  {
   "cell_type": "code",
   "execution_count": 25,
   "id": "73528688",
   "metadata": {},
   "outputs": [
    {
     "name": "stdout",
     "output_type": "stream",
     "text": [
      "Enter gender (Male or Female): Female\n",
      "Enter age: 54\n",
      "Enter hypertension (0 for no, 1 for yes): 0\n",
      "Enter heart disease (0 for no, 1 for yes): 0\n",
      "Enter smoking history (former): 0\n",
      "Enter smoking history (never): 0\n",
      "Enter BMI: 25.19\n",
      "Enter HbA1c level: 6.6\n",
      "Enter blood glucose level: 140\n"
     ]
    }
   ],
   "source": [
    "# Get input from the user\n",
    "gender = input(\"Enter gender (Male or Female): \")\n",
    "age = float(input(\"Enter age: \"))\n",
    "hypertension = int(input(\"Enter hypertension (0 for no, 1 for yes): \"))\n",
    "heart_disease = int(input(\"Enter heart disease (0 for no, 1 for yes): \"))\n",
    "smoking_former = int(input(\"Enter smoking history (former): \"))\n",
    "smoking_never = int(input(\"Enter smoking history (never): \"))\n",
    "bmi = float(input(\"Enter BMI: \"))\n",
    "HbA1c_level = float(input(\"Enter HbA1c level: \"))\n",
    "blood_glucose_level = float(input(\"Enter blood glucose level: \"))"
   ]
  },
  {
   "cell_type": "code",
   "execution_count": 26,
   "id": "98d78529",
   "metadata": {},
   "outputs": [
    {
     "name": "stderr",
     "output_type": "stream",
     "text": [
      "C:\\Users\\lgspa\\anaconda3\\lib\\site-packages\\sklearn\\base.py:450: UserWarning: X does not have valid feature names, but StandardScaler was fitted with feature names\n",
      "  warnings.warn(\n"
     ]
    }
   ],
   "source": [
    "# Scale the input features\n",
    "user_data = scaler.transform([[gender == 'Male', age, hypertension, heart_disease, smoking_former, smoking_never, bmi, HbA1c_level, blood_glucose_level]])"
   ]
  },
  {
   "cell_type": "code",
   "execution_count": 27,
   "id": "4912ab14",
   "metadata": {},
   "outputs": [
    {
     "name": "stderr",
     "output_type": "stream",
     "text": [
      "C:\\Users\\lgspa\\anaconda3\\lib\\site-packages\\sklearn\\neighbors\\_classification.py:228: FutureWarning: Unlike other reduction functions (e.g. `skew`, `kurtosis`), the default behavior of `mode` typically preserves the axis it acts along. In SciPy 1.11.0, this behavior will change: the default value of `keepdims` will become False, the `axis` over which the statistic is taken will be eliminated, and the value None will no longer be accepted. Set `keepdims` to True or False to avoid this warning.\n",
      "  mode, _ = stats.mode(_y[neigh_ind, k], axis=1)\n"
     ]
    }
   ],
   "source": [
    "# Make predictions\n",
    "rf_pred = rf_model.predict(user_data)\n",
    "knn_pred = knn_model.predict(user_data)\n",
    "adaboost_pred = adaboost_model.predict(user_data)\n",
    "lr_pred = lr_model.predict(user_data)\n",
    "dt_pred = dt_model.predict(user_data)"
   ]
  },
  {
   "cell_type": "code",
   "execution_count": 28,
   "id": "80de64e9",
   "metadata": {},
   "outputs": [
    {
     "name": "stdout",
     "output_type": "stream",
     "text": [
      "\n",
      "Random Forest Prediction: No Diabetes\n",
      "K-Nearest Neighbors Prediction: No Diabetes\n",
      "AdaBoost Prediction: No Diabetes\n",
      "Linear Regression Prediction: No Diabetes\n",
      "Decision Tree Prediction: No Diabetes\n"
     ]
    }
   ],
   "source": [
    "# Display the predictions\n",
    "print(\"\\nRandom Forest Prediction:\", \"Diabetes\" if rf_pred[0] == 1 else \"No Diabetes\")\n",
    "print(\"K-Nearest Neighbors Prediction:\", \"Diabetes\" if knn_pred[0] == 1 else \"No Diabetes\")\n",
    "print(\"AdaBoost Prediction:\", \"Diabetes\" if adaboost_pred[0] == 1 else \"No Diabetes\")\n",
    "print(\"Linear Regression Prediction:\", \"Diabetes\" if lr_pred[0] == 1 else \"No Diabetes\")\n",
    "print(\"Decision Tree Prediction:\", \"Diabetes\" if dt_pred[0] == 1 else \"No Diabetes\")"
   ]
  },
  {
   "cell_type": "code",
   "execution_count": null,
   "id": "86598347",
   "metadata": {},
   "outputs": [],
   "source": []
  }
 ],
 "metadata": {
  "kernelspec": {
   "display_name": "Python 3 (ipykernel)",
   "language": "python",
   "name": "python3"
  },
  "language_info": {
   "codemirror_mode": {
    "name": "ipython",
    "version": 3
   },
   "file_extension": ".py",
   "mimetype": "text/x-python",
   "name": "python",
   "nbconvert_exporter": "python",
   "pygments_lexer": "ipython3",
   "version": "3.9.13"
  }
 },
 "nbformat": 4,
 "nbformat_minor": 5
}
